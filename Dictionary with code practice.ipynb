{
 "cells": [
  {
   "cell_type": "code",
   "execution_count": 5,
   "id": "7234321e-7c5a-4c8b-92b5-d18fe24f91de",
   "metadata": {},
   "outputs": [
    {
     "name": "stdout",
     "output_type": "stream",
     "text": [
      "<class 'dict'>\n"
     ]
    }
   ],
   "source": [
    "var={}                                   #empty dictionary 1st method\n",
    "print(type(var))"
   ]
  },
  {
   "cell_type": "code",
   "execution_count": 4,
   "id": "adb2e968-6607-402a-b27d-a6c8c19ad73e",
   "metadata": {},
   "outputs": [
    {
     "name": "stdout",
     "output_type": "stream",
     "text": [
      "<class 'dict'>\n"
     ]
    }
   ],
   "source": [
    "var=dict()                                   #empty dictionary 2nd method \n",
    "print(type(var))"
   ]
  },
  {
   "cell_type": "code",
   "execution_count": 6,
   "id": "c543b350-d062-486b-94a1-57854374518a",
   "metadata": {},
   "outputs": [
    {
     "name": "stdout",
     "output_type": "stream",
     "text": [
      "<class 'dict'>\n",
      "{'Name': 'Rishi'}\n"
     ]
    }
   ],
   "source": [
    "var={'Name':'Rishi'}                                 \n",
    "print(type(var))\n",
    "print(var)"
   ]
  },
  {
   "cell_type": "code",
   "execution_count": 8,
   "id": "0e827068-2ceb-4831-883e-a10cfcda6b1e",
   "metadata": {},
   "outputs": [
    {
     "name": "stdout",
     "output_type": "stream",
     "text": [
      "{'Name': 'Rishi', 'Roll no.': 2}\n"
     ]
    }
   ],
   "source": [
    "var={'Name':'Rishi','Roll no.':2}                                 \n",
    "print(var)"
   ]
  },
  {
   "cell_type": "code",
   "execution_count": 12,
   "id": "2c9303ea-413e-4d57-bb97-dd2fb3ccb179",
   "metadata": {},
   "outputs": [
    {
     "name": "stdout",
     "output_type": "stream",
     "text": [
      "Rishi21989\n"
     ]
    }
   ],
   "source": [
    "var={'Name':'Rishi','age':30,'username':'Rishi21989','password':'kumar'}                                 \n",
    "print(var['username'])"
   ]
  },
  {
   "cell_type": "code",
   "execution_count": 11,
   "id": "7d020761-f118-4fa0-aa3c-318d473e4336",
   "metadata": {},
   "outputs": [],
   "source": [
    "#pop method"
   ]
  },
  {
   "cell_type": "code",
   "execution_count": 14,
   "id": "00441b9d-b375-476b-9283-0662a40f5fa0",
   "metadata": {},
   "outputs": [
    {
     "name": "stdout",
     "output_type": "stream",
     "text": [
      "{'Name': 'Rishi', 'age': 30, 'username': 'Rishi21989'}\n"
     ]
    }
   ],
   "source": [
    "var={'Name':'Rishi','age':30,'username':'Rishi21989','password':'kumar'}  \n",
    "var.pop('password')                          # pop\\delete any value from the dictionary\n",
    "print(var)"
   ]
  },
  {
   "cell_type": "code",
   "execution_count": 16,
   "id": "9b118c9a-40f6-45c7-a8a7-909e3cb5525d",
   "metadata": {},
   "outputs": [
    {
     "name": "stdout",
     "output_type": "stream",
     "text": [
      "kumar\n",
      "Rishi21989\n"
     ]
    }
   ],
   "source": [
    "var={'Name':'Rishi','age':30,'username':'Rishi21989','password':'kumar'}\n",
    "print(var.pop('password'))                   # will print the deleted value from the dictionary\n",
    "print(var['username'])"
   ]
  },
  {
   "cell_type": "code",
   "execution_count": 18,
   "id": "b0cc976e-740f-4b03-936f-3716d52f9344",
   "metadata": {},
   "outputs": [],
   "source": [
    "#clear method"
   ]
  },
  {
   "cell_type": "code",
   "execution_count": 20,
   "id": "373a5de5-78ab-4b8a-a32a-91d80d7feaa0",
   "metadata": {},
   "outputs": [
    {
     "name": "stdout",
     "output_type": "stream",
     "text": [
      "None\n"
     ]
    }
   ],
   "source": [
    "var={'Name':'Rishi','age':30,'username':'Rishi21989','password':'kumar'}                                 \n",
    "print(var.clear())                           #clear all the values and show empty dictionary"
   ]
  },
  {
   "cell_type": "code",
   "execution_count": 21,
   "id": "85d5bdfe-d406-4f7e-abbe-0aea39eea39c",
   "metadata": {},
   "outputs": [
    {
     "name": "stdout",
     "output_type": "stream",
     "text": [
      "{}\n"
     ]
    }
   ],
   "source": [
    "var={'Name':'Rishi','age':30,'username':'Rishi21989','password':'kumar'}                                 \n",
    "var.clear()\n",
    "print(var)"
   ]
  },
  {
   "cell_type": "code",
   "execution_count": 25,
   "id": "853b6c7e-1cef-4781-a0c9-26455d8964b6",
   "metadata": {},
   "outputs": [
    {
     "name": "stdout",
     "output_type": "stream",
     "text": [
      "dict_keys(['Name', 'age', 'username', 'password'])\n",
      "dict_values(['Rishi', 30, 'Rishi21989', 'kumar'])\n"
     ]
    }
   ],
   "source": [
    "var={'Name':'Rishi','age':30,'username':'Rishi21989','password':'kumar'}                                 \n",
    "print(var.keys())                           # will print all the keys present in the dictionary\n",
    "print(var.values())                         # will print all the values present in the dictionary"
   ]
  },
  {
   "cell_type": "code",
   "execution_count": 27,
   "id": "abc1dee2-f1bd-405a-baeb-ab5d6c9750ce",
   "metadata": {},
   "outputs": [
    {
     "name": "stdout",
     "output_type": "stream",
     "text": [
      "dict_items([('Name', 'Rishi'), ('age', 30), ('username', 'Rishi21989'), ('password', 'kumar')])\n"
     ]
    }
   ],
   "source": [
    "var={'Name':'Rishi','age':30,'username':'Rishi21989','password':'kumar'}                                 \n",
    "print(var.items())                          #print the items present"
   ]
  },
  {
   "cell_type": "code",
   "execution_count": 33,
   "id": "7f08a2f7-3552-4700-a396-ca415e6c45fc",
   "metadata": {},
   "outputs": [
    {
     "name": "stdout",
     "output_type": "stream",
     "text": [
      "Name - Rishi\n",
      "age - 30\n",
      "username - Rishi21989\n",
      "password - kumar\n"
     ]
    }
   ],
   "source": [
    "var={'Name':'Rishi','age':30,'username':'Rishi21989','password':'kumar'} \n",
    "for key,values in var.items():               #for loop to print the key and value together\n",
    "    print(key,values,sep=' - ')              # sep is used to put '-' in between the key and value"
   ]
  },
  {
   "cell_type": "code",
   "execution_count": 35,
   "id": "7c1580dc-ccdd-480b-bbbb-dc98265fe11a",
   "metadata": {},
   "outputs": [
    {
     "name": "stdout",
     "output_type": "stream",
     "text": [
      "{'Name': 'Rishi', 'age': 20, 'username': 'Rishi21989', 'password': 'kumar'}\n"
     ]
    }
   ],
   "source": [
    "var={'Name':'Rishi','age':30,'username':'Rishi21989','password':'kumar'}\n",
    "var['age']=20                               # can change the value of any key\n",
    "print(var)"
   ]
  },
  {
   "cell_type": "code",
   "execution_count": null,
   "id": "9a9dd882-5245-49b3-936d-fe2ab78331da",
   "metadata": {},
   "outputs": [],
   "source": []
  },
  {
   "cell_type": "code",
   "execution_count": null,
   "id": "511e0fb3-374c-4cd3-8455-b8e8468e891d",
   "metadata": {},
   "outputs": [],
   "source": []
  },
  {
   "cell_type": "code",
   "execution_count": null,
   "id": "178748b3-33d3-4c9a-8049-93ec25b6d42e",
   "metadata": {},
   "outputs": [],
   "source": []
  },
  {
   "cell_type": "code",
   "execution_count": null,
   "id": "c9d8a2b4-76f5-4183-aa25-3ea89712f11c",
   "metadata": {},
   "outputs": [],
   "source": []
  }
 ],
 "metadata": {
  "kernelspec": {
   "display_name": "Python 3 (ipykernel)",
   "language": "python",
   "name": "python3"
  },
  "language_info": {
   "codemirror_mode": {
    "name": "ipython",
    "version": 3
   },
   "file_extension": ".py",
   "mimetype": "text/x-python",
   "name": "python",
   "nbconvert_exporter": "python",
   "pygments_lexer": "ipython3",
   "version": "3.11.5"
  }
 },
 "nbformat": 4,
 "nbformat_minor": 5
}

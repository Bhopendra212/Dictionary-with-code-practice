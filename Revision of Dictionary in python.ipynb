{
 "cells": [
  {
   "cell_type": "code",
   "execution_count": 1,
   "id": "560b77b4-19c5-42df-a62a-220271c00ab9",
   "metadata": {},
   "outputs": [],
   "source": [
    "#creating a dictionary"
   ]
  },
  {
   "cell_type": "code",
   "execution_count": 2,
   "id": "33b5dd83-c943-4b9e-8e61-ad44f1dfa4db",
   "metadata": {},
   "outputs": [],
   "source": [
    "a={\n",
    "    'ID':'abc123',\n",
    "    'color':'orange',\n",
    "    'year':'2023'\n",
    "\n",
    "}"
   ]
  },
  {
   "cell_type": "code",
   "execution_count": 3,
   "id": "fa243faf-734e-4f3b-8f7f-223c1d396a64",
   "metadata": {},
   "outputs": [
    {
     "name": "stdout",
     "output_type": "stream",
     "text": [
      "{'ID': 'abc123', 'color': 'orange', 'year': '2023'}\n"
     ]
    }
   ],
   "source": [
    "print(a)"
   ]
  },
  {
   "cell_type": "code",
   "execution_count": 4,
   "id": "e30ddcc4-fd78-46d2-8c22-3c2c993e455b",
   "metadata": {},
   "outputs": [
    {
     "name": "stdout",
     "output_type": "stream",
     "text": [
      "orange\n"
     ]
    }
   ],
   "source": [
    "a={\n",
    "    'ID':'abc123',\n",
    "    'color':'orange',\n",
    "    'year':'2023'\n",
    "\n",
    "}\n",
    "print(a['color'])"
   ]
  },
  {
   "cell_type": "code",
   "execution_count": 6,
   "id": "f6370791-3291-4bbf-b9d2-9af1c0e41094",
   "metadata": {},
   "outputs": [
    {
     "name": "stdout",
     "output_type": "stream",
     "text": [
      "{'ID': 'abc123', 'color': 'orange', 'year': '2020'}\n"
     ]
    }
   ],
   "source": [
    "a={\n",
    "    'ID':'abc123',\n",
    "    'color':'orange',\n",
    "    'year':'2023',\n",
    "    'year':'2020'\n",
    "\n",
    "}\n",
    "print(a)"
   ]
  },
  {
   "cell_type": "code",
   "execution_count": 7,
   "id": "948106c0-9a13-44d8-af0b-d618f12b4a6b",
   "metadata": {},
   "outputs": [],
   "source": [
    "#dictionary length"
   ]
  },
  {
   "cell_type": "code",
   "execution_count": 8,
   "id": "c102fb02-da2a-46a0-be24-ed5824c4567b",
   "metadata": {},
   "outputs": [
    {
     "name": "stdout",
     "output_type": "stream",
     "text": [
      "3\n"
     ]
    }
   ],
   "source": [
    "a={\n",
    "    'ID':'abc123',\n",
    "    'color':'orange',\n",
    "    'year':'2023'\n",
    "\n",
    "}\n",
    "print(len(a))"
   ]
  },
  {
   "cell_type": "code",
   "execution_count": 10,
   "id": "f491a61a-f5e9-48fd-aca3-42a9283542f0",
   "metadata": {},
   "outputs": [
    {
     "name": "stdout",
     "output_type": "stream",
     "text": [
      "{'ID': 'abc123', 'color': 'orange', 'year': '2023', 'a': [1, 2, 3, 4, 5], 'b': [2.3, 2.5, 5.6], 'c': False}\n"
     ]
    }
   ],
   "source": [
    "dict={\n",
    "    'ID':'abc123',\n",
    "    'color':'orange',\n",
    "    'year':'2023',\n",
    "    'a':[1,2,3,4,5],\n",
    "    'b':[2.3,2.5,5.6],\n",
    "    'c':False\n",
    "\n",
    "}\n",
    "print(dict)"
   ]
  },
  {
   "cell_type": "code",
   "execution_count": 20,
   "id": "d62de315-66cd-4ba9-a8fb-460389ef03f9",
   "metadata": {},
   "outputs": [
    {
     "name": "stdout",
     "output_type": "stream",
     "text": [
      "{'name': 'rishi', 'age': 30, 'country': 'Bharat'}\n",
      "<class 'dict'>\n"
     ]
    }
   ],
   "source": [
    "a={'name':'rishi','age':30,'country':'Bharat'}\n",
    "print(a)\n",
    "print(type(a))"
   ]
  },
  {
   "cell_type": "code",
   "execution_count": 22,
   "id": "a31dd102-d67e-49a1-9c17-bd976d1e49f3",
   "metadata": {},
   "outputs": [
    {
     "name": "stdout",
     "output_type": "stream",
     "text": [
      "rishi\n"
     ]
    }
   ],
   "source": [
    "a={'name':'rishi','age':30,'country':'Bharat'}\n",
    "print(a['name'])"
   ]
  },
  {
   "cell_type": "code",
   "execution_count": 24,
   "id": "d8ba9897-2a14-4f65-bd17-ec5961cbcf5f",
   "metadata": {},
   "outputs": [
    {
     "data": {
      "text/plain": [
       "dict_keys(['name', 'age', 'country'])"
      ]
     },
     "execution_count": 24,
     "metadata": {},
     "output_type": "execute_result"
    }
   ],
   "source": [
    "a={'name':'rishi','age':30,'country':'Bharat'}\n",
    "x=a.keys()\n",
    "x"
   ]
  },
  {
   "cell_type": "code",
   "execution_count": 25,
   "id": "00fc9684-c345-4c46-b157-20baafa53003",
   "metadata": {},
   "outputs": [],
   "source": [
    "a={'name':'rishi','age':30,'country':'Bharat'}"
   ]
  },
  {
   "cell_type": "code",
   "execution_count": 26,
   "id": "64882728-b574-4adf-a4c6-5db1a10d55d9",
   "metadata": {},
   "outputs": [],
   "source": [
    "y=a.values()"
   ]
  },
  {
   "cell_type": "code",
   "execution_count": 27,
   "id": "d99f2db7-5527-4572-8608-d522719965d7",
   "metadata": {},
   "outputs": [
    {
     "data": {
      "text/plain": [
       "dict_values(['rishi', 30, 'Bharat'])"
      ]
     },
     "execution_count": 27,
     "metadata": {},
     "output_type": "execute_result"
    }
   ],
   "source": [
    "y"
   ]
  },
  {
   "cell_type": "code",
   "execution_count": 28,
   "id": "42076835-4ef1-4bf2-bc92-977fb29de50a",
   "metadata": {},
   "outputs": [
    {
     "name": "stdout",
     "output_type": "stream",
     "text": [
      "{'name': 'rishi', 'age': 33, 'country': 'Bharat'}\n"
     ]
    }
   ],
   "source": [
    "a={\n",
    "    'name':'rishi',\n",
    "    'age':30,\n",
    "    'country':'Bharat'\n",
    "}\n",
    "a['age']=33\n",
    "print(a)"
   ]
  },
  {
   "cell_type": "code",
   "execution_count": 29,
   "id": "8affe807-3f06-4408-b017-e61a753ac308",
   "metadata": {},
   "outputs": [
    {
     "name": "stdout",
     "output_type": "stream",
     "text": [
      "{'name': 'rishi', 'age': 30, 'country': 'Bharat', 'mail id': 'rishi@gmail.com'}\n"
     ]
    }
   ],
   "source": [
    "a={\n",
    "    'name':'rishi',\n",
    "    'age':30,\n",
    "    'country':'Bharat'\n",
    "}\n",
    "a.update({\"mail id\":'rishi@gmail.com'})\n",
    "print(a)"
   ]
  },
  {
   "cell_type": "code",
   "execution_count": 30,
   "id": "ef8be685-0a77-4f19-b366-16129aab7e90",
   "metadata": {},
   "outputs": [
    {
     "name": "stdout",
     "output_type": "stream",
     "text": [
      "{'name': 'rishi', 'country': 'Bharat'}\n"
     ]
    }
   ],
   "source": [
    "a={\n",
    "    'name':'rishi',\n",
    "    'age':30,\n",
    "    'country':'Bharat'\n",
    "}\n",
    "a.pop('age')\n",
    "print(a)"
   ]
  },
  {
   "cell_type": "code",
   "execution_count": 32,
   "id": "201d8db7-5649-4c99-8d08-434f1483700a",
   "metadata": {},
   "outputs": [
    {
     "ename": "NameError",
     "evalue": "name 'a' is not defined",
     "output_type": "error",
     "traceback": [
      "\u001b[1;31m---------------------------------------------------------------------------\u001b[0m",
      "\u001b[1;31mNameError\u001b[0m                                 Traceback (most recent call last)",
      "Cell \u001b[1;32mIn[32], line 7\u001b[0m\n\u001b[0;32m      1\u001b[0m a\u001b[38;5;241m=\u001b[39m{\n\u001b[0;32m      2\u001b[0m     \u001b[38;5;124m'\u001b[39m\u001b[38;5;124mname\u001b[39m\u001b[38;5;124m'\u001b[39m:\u001b[38;5;124m'\u001b[39m\u001b[38;5;124mrishi\u001b[39m\u001b[38;5;124m'\u001b[39m,\n\u001b[0;32m      3\u001b[0m     \u001b[38;5;124m'\u001b[39m\u001b[38;5;124mage\u001b[39m\u001b[38;5;124m'\u001b[39m:\u001b[38;5;241m30\u001b[39m,\n\u001b[0;32m      4\u001b[0m     \u001b[38;5;124m'\u001b[39m\u001b[38;5;124mcountry\u001b[39m\u001b[38;5;124m'\u001b[39m:\u001b[38;5;124m'\u001b[39m\u001b[38;5;124mBharat\u001b[39m\u001b[38;5;124m'\u001b[39m\n\u001b[0;32m      5\u001b[0m }\n\u001b[0;32m      6\u001b[0m \u001b[38;5;28;01mdel\u001b[39;00m a                \u001b[38;5;66;03m# complete dictionary deleted\u001b[39;00m\n\u001b[1;32m----> 7\u001b[0m \u001b[38;5;28mprint\u001b[39m(\u001b[43ma\u001b[49m)\n",
      "\u001b[1;31mNameError\u001b[0m: name 'a' is not defined"
     ]
    }
   ],
   "source": [
    "a={\n",
    "    'name':'rishi',\n",
    "    'age':30,\n",
    "    'country':'Bharat'\n",
    "}\n",
    "del a                # complete dictionary deleted\n",
    "print(a)"
   ]
  },
  {
   "cell_type": "code",
   "execution_count": 34,
   "id": "5050d66f-619e-418b-802b-d992525bf76f",
   "metadata": {},
   "outputs": [
    {
     "name": "stdout",
     "output_type": "stream",
     "text": [
      "{}\n"
     ]
    }
   ],
   "source": [
    "a={\n",
    "    'name':'rishi',\n",
    "    'age':30,\n",
    "    'country':'Bharat'\n",
    "}\n",
    "a.clear()                  #empty dictionary\n",
    "print(a)"
   ]
  },
  {
   "cell_type": "code",
   "execution_count": 37,
   "id": "ef66c412-92d2-4789-b5af-9bb90c06a0a9",
   "metadata": {},
   "outputs": [
    {
     "name": "stdout",
     "output_type": "stream",
     "text": [
      "{1: 10, 2: 20, 3: 30, 4: 40, 5: 50, 6: 60}\n"
     ]
    }
   ],
   "source": [
    "dict1={1:10,2:20}\n",
    "dict2={3:30,4:40}\n",
    "dict3={5:50,6:60}\n",
    "dict4={}\n",
    "for d in (dict1,dict2,dict3):dict4.update(d)\n",
    "print(dict4)"
   ]
  },
  {
   "cell_type": "code",
   "execution_count": null,
   "id": "d50d2226-a58b-4865-93bd-0bffe56bc44e",
   "metadata": {},
   "outputs": [],
   "source": []
  },
  {
   "cell_type": "code",
   "execution_count": null,
   "id": "3131709f-a10f-4a2f-8678-3fe21816a858",
   "metadata": {},
   "outputs": [],
   "source": []
  },
  {
   "cell_type": "code",
   "execution_count": null,
   "id": "a9280b0b-d710-411d-a506-6642594d1413",
   "metadata": {},
   "outputs": [],
   "source": []
  },
  {
   "cell_type": "code",
   "execution_count": null,
   "id": "a884a51a-f765-44bb-b56b-78c9b7869bbe",
   "metadata": {},
   "outputs": [],
   "source": []
  },
  {
   "cell_type": "code",
   "execution_count": null,
   "id": "fd2883e7-0219-4d6b-a267-f539c635ae91",
   "metadata": {},
   "outputs": [],
   "source": []
  },
  {
   "cell_type": "code",
   "execution_count": null,
   "id": "068fbfa4-61c8-45ae-bcc6-3b27d08e76bc",
   "metadata": {},
   "outputs": [],
   "source": []
  },
  {
   "cell_type": "code",
   "execution_count": null,
   "id": "d5179ae0-b89c-4dec-8022-f1af4afcb83a",
   "metadata": {},
   "outputs": [],
   "source": []
  },
  {
   "cell_type": "code",
   "execution_count": null,
   "id": "c8e3c7f7-aeb0-4141-a973-29ed31dd9719",
   "metadata": {},
   "outputs": [],
   "source": []
  },
  {
   "cell_type": "code",
   "execution_count": null,
   "id": "bebd8ad3-bbe1-483e-8fa1-40946050f209",
   "metadata": {},
   "outputs": [],
   "source": []
  },
  {
   "cell_type": "code",
   "execution_count": null,
   "id": "6e585864-213d-4e98-b13c-d368fa0b0f7b",
   "metadata": {},
   "outputs": [],
   "source": []
  },
  {
   "cell_type": "code",
   "execution_count": null,
   "id": "3317126a-0207-4a77-b04f-a6687ab558da",
   "metadata": {},
   "outputs": [],
   "source": []
  },
  {
   "cell_type": "code",
   "execution_count": null,
   "id": "60af6236-fa8f-443c-bc71-7eeea2ee1018",
   "metadata": {},
   "outputs": [],
   "source": []
  },
  {
   "cell_type": "code",
   "execution_count": null,
   "id": "74704a5d-4590-4511-8a8f-c6c0dd3e79bf",
   "metadata": {},
   "outputs": [],
   "source": []
  },
  {
   "cell_type": "code",
   "execution_count": null,
   "id": "b8f0efec-0a3a-4722-8bcc-ab470b341616",
   "metadata": {},
   "outputs": [],
   "source": []
  },
  {
   "cell_type": "code",
   "execution_count": null,
   "id": "bbd8d529-bf27-412b-a511-9aa73d3e97db",
   "metadata": {},
   "outputs": [],
   "source": []
  }
 ],
 "metadata": {
  "kernelspec": {
   "display_name": "Python 3 (ipykernel)",
   "language": "python",
   "name": "python3"
  },
  "language_info": {
   "codemirror_mode": {
    "name": "ipython",
    "version": 3
   },
   "file_extension": ".py",
   "mimetype": "text/x-python",
   "name": "python",
   "nbconvert_exporter": "python",
   "pygments_lexer": "ipython3",
   "version": "3.11.5"
  }
 },
 "nbformat": 4,
 "nbformat_minor": 5
}
